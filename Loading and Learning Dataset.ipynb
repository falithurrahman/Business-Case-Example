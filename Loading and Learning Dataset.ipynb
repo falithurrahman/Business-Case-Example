{
 "cells": [
  {
   "cell_type": "code",
   "execution_count": 1,
   "metadata": {},
   "outputs": [],
   "source": [
    "import numpy as np\n",
    "import tensorflow as tf"
   ]
  },
  {
   "cell_type": "code",
   "execution_count": 6,
   "metadata": {},
   "outputs": [],
   "source": [
    "npz_train = np.load('Audiobook_data_train.npz')\n",
    "train_input = npz_train['inputs'].astype(np.float)\n",
    "train_target = npz_train['targets'].astype(np.int)\n",
    "\n",
    "npz_validation = np.load('Audiobook_data_validation.npz')\n",
    "validation_input = npz_validation['inputs'].astype(np.float)\n",
    "validation_target = npz_validation['targets'].astype(np.int)\n",
    "\n",
    "npz_test = np.load('Audiobook_data_test.npz')\n",
    "test_input = npz_test['inputs'].astype(np.float)\n",
    "test_target = npz_test['targets'].astype(np.int)"
   ]
  }
 ],
 "metadata": {
  "kernelspec": {
   "display_name": "py3_tensorflow",
   "language": "python",
   "name": "py3_tensorflow"
  },
  "language_info": {
   "codemirror_mode": {
    "name": "ipython",
    "version": 3
   },
   "file_extension": ".py",
   "mimetype": "text/x-python",
   "name": "python",
   "nbconvert_exporter": "python",
   "pygments_lexer": "ipython3",
   "version": "3.7.7"
  }
 },
 "nbformat": 4,
 "nbformat_minor": 4
}
