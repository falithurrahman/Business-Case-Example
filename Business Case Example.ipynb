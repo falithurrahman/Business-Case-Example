{
 "cells": [
  {
   "cell_type": "code",
   "execution_count": 1,
   "metadata": {},
   "outputs": [],
   "source": [
    "import numpy as np\n",
    "from sklearn import preprocessing"
   ]
  },
  {
   "cell_type": "code",
   "execution_count": 2,
   "metadata": {},
   "outputs": [],
   "source": [
    "raw_dataset=np.loadtxt(\"Audiobooks_data.csv\", delimiter=',')"
   ]
  },
  {
   "cell_type": "code",
   "execution_count": 3,
   "metadata": {},
   "outputs": [],
   "source": [
    "#ini bacanya <slice> = <array>[start_row:end_row, start_col:end_col]\n",
    "#kalau kosong, berarti semua row/column\n",
    "#artinya mulai dari row awal ke akhir, terus ditambahin\n",
    "#col ke 1 sampai col ke 1 dari belakang\n",
    "unscaled_input_all=raw_dataset[:, 1:-1]\n",
    "\n",
    "#karena colon pertama kosong, berarti semua row dipakai\n",
    "#yang sebelah kanan tidak ada colon, tapi bisa ditulis -1:\n",
    "#artinya start col adalah -1 (dari belakang)\n",
    "#selanjutnya kosong, karena itu \n",
    "targets_all=raw_dataset[: ,  -1]"
   ]
  },
  {
   "cell_type": "code",
   "execution_count": 4,
   "metadata": {},
   "outputs": [
    {
     "data": {
      "text/plain": [
       "(14084, 10)"
      ]
     },
     "execution_count": 4,
     "metadata": {},
     "output_type": "execute_result"
    }
   ],
   "source": [
    "unscaled_input_all.shape"
   ]
  },
  {
   "cell_type": "markdown",
   "metadata": {},
   "source": [
    "### balancing dataset"
   ]
  },
  {
   "cell_type": "code",
   "execution_count": 6,
   "metadata": {},
   "outputs": [],
   "source": [
    "number_targets_one = int(np.sum(targets_all))\n",
    "zero_counter = 0\n",
    "indices_removed = []\n",
    "\n",
    "for i in range(targets_all.shape[0]):\n",
    "    #kalau targets all ke-i bernilai 0, maka\n",
    "    if targets_all[i] == 0:\n",
    "        zero_counter=zero_counter+1\n",
    "        if zero_counter > number_targets_one:\n",
    "            #ini akan menambahkan indeks data yang memiliki target 0\n",
    "            #dan tidak dibutuhkan karena sudah melebihi jumlah target 1\n",
    "            indices_removed.append(i)\n",
    "        \n",
    "unscaled_input_after_balancing=np.delete(unscaled_input_all, indices_removed, axis=0)\n",
    "targets_after_balancing=np.delete(targets_all, indices_removed, axis=0)"
   ]
  },
  {
   "cell_type": "code",
   "execution_count": 36,
   "metadata": {},
   "outputs": [
    {
     "data": {
      "text/plain": [
       "array([1., 1., 1., ..., 0., 0., 0.])"
      ]
     },
     "execution_count": 36,
     "metadata": {},
     "output_type": "execute_result"
    }
   ],
   "source": [
    "targets_all"
   ]
  },
  {
   "cell_type": "markdown",
   "metadata": {},
   "source": [
    "### Scaling the data"
   ]
  },
  {
   "cell_type": "code",
   "execution_count": null,
   "metadata": {},
   "outputs": [],
   "source": [
    "#ini untuk standardize data\n",
    "scaled_input=preprocessing.scale(unscaled_input_after_balancing)"
   ]
  },
  {
   "cell_type": "markdown",
   "metadata": {},
   "source": [
    "### Shuffling data"
   ]
  },
  {
   "cell_type": "code",
   "execution_count": null,
   "metadata": {},
   "outputs": [],
   "source": [
    "shuffle_indices=np.arrange"
   ]
  }
 ],
 "metadata": {
  "kernelspec": {
   "display_name": "py3_tensorflow",
   "language": "python",
   "name": "py3_tensorflow"
  },
  "language_info": {
   "codemirror_mode": {
    "name": "ipython",
    "version": 3
   },
   "file_extension": ".py",
   "mimetype": "text/x-python",
   "name": "python",
   "nbconvert_exporter": "python",
   "pygments_lexer": "ipython3",
   "version": "3.7.7"
  }
 },
 "nbformat": 4,
 "nbformat_minor": 4
}
