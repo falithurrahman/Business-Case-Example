{
  "cells": [
    {
      "cell_type": "markdown",
      "metadata": {
        "id": "view-in-github",
        "colab_type": "text"
      },
      "source": [
        "<a href=\"https://colab.research.google.com/github/falithurrahman/Business-Case-Example/blob/main/Final_Project_Stats_MaulanaF.ipynb\" target=\"_parent\"><img src=\"https://colab.research.google.com/assets/colab-badge.svg\" alt=\"Open In Colab\"/></a>"
      ]
    },
    {
      "cell_type": "markdown",
      "metadata": {
        "id": "e1vSLDVpP8YD"
      },
      "source": [
        "# FINAL PROJECT"
      ]
    },
    {
      "cell_type": "markdown",
      "metadata": {
        "id": "uUZ2CzywP8YL"
      },
      "source": [
        "#### Becoming familiar with the dataset.\n",
        "\n",
        "#### The following describes the dataset variables:\n",
        "\n",
        "·      CRIM - per capita crime rate by town\n",
        "\n",
        "·      ZN - proportion of residential land zoned for lots over 25,000 sq.ft.\n",
        "\n",
        "·      INDUS - proportion of non-retail business acres per town.\n",
        "\n",
        "·      CHAS - Charles River dummy variable (1 if tract bounds river; 0 otherwise)\n",
        "\n",
        "·      NOX - nitric oxides concentration (parts per 10 million)\n",
        "\n",
        "·      RM - average number of rooms per dwelling\n",
        "\n",
        "·      AGE - proportion of owner-occupied units built prior to 1940\n",
        "\n",
        "·      DIS - weighted distances to five Boston employment centres\n",
        "\n",
        "·      RAD - index of accessibility to radial highways\n",
        "\n",
        "·      TAX - full-value property-tax rate per $10,000\n",
        "\n",
        "·      PTRATIO - pupil-teacher ratio by town\n",
        "\n",
        "·      LSTAT - % lower status of the population\n",
        "\n",
        "·      MEDV - Median value of owner-occupied homes in $1000's\n",
        "\n"
      ]
    },
    {
      "cell_type": "code",
      "execution_count": 1,
      "metadata": {
        "id": "T2K00traP8YM"
      },
      "outputs": [],
      "source": [
        "import numpy as np\n",
        "import pandas as pd\n",
        "\n",
        "import statsmodels.api as sm\n",
        "\n",
        "import seaborn as sns\n",
        "import matplotlib.pyplot as plt "
      ]
    },
    {
      "cell_type": "code",
      "execution_count": 2,
      "metadata": {
        "id": "gfTgILZ6P8YM"
      },
      "outputs": [],
      "source": [
        "boston_url = 'https://cf-courses-data.s3.us.cloud-object-storage.appdomain.cloud/IBMDeveloperSkillsNetwork-ST0151EN-SkillsNetwork/labs/boston_housing.csv'\n",
        "boston_df=pd.read_csv(boston_url)"
      ]
    },
    {
      "cell_type": "code",
      "execution_count": 3,
      "metadata": {
        "colab": {
          "base_uri": "https://localhost:8080/",
          "height": 206
        },
        "id": "p8Nado7HP8YM",
        "outputId": "cb85cf43-7224-41b8-d8a4-246d073f8f72"
      },
      "outputs": [
        {
          "output_type": "execute_result",
          "data": {
            "text/plain": [
              "   Unnamed: 0     CRIM    ZN  INDUS  CHAS    NOX     RM   AGE     DIS  RAD  \\\n",
              "0           0  0.00632  18.0   2.31   0.0  0.538  6.575  65.2  4.0900  1.0   \n",
              "1           1  0.02731   0.0   7.07   0.0  0.469  6.421  78.9  4.9671  2.0   \n",
              "2           2  0.02729   0.0   7.07   0.0  0.469  7.185  61.1  4.9671  2.0   \n",
              "3           3  0.03237   0.0   2.18   0.0  0.458  6.998  45.8  6.0622  3.0   \n",
              "4           4  0.06905   0.0   2.18   0.0  0.458  7.147  54.2  6.0622  3.0   \n",
              "\n",
              "     TAX  PTRATIO  LSTAT  MEDV  \n",
              "0  296.0     15.3   4.98  24.0  \n",
              "1  242.0     17.8   9.14  21.6  \n",
              "2  242.0     17.8   4.03  34.7  \n",
              "3  222.0     18.7   2.94  33.4  \n",
              "4  222.0     18.7   5.33  36.2  "
            ],
            "text/html": [
              "\n",
              "  <div id=\"df-df587b06-3799-4132-83b8-485b037b1e2f\">\n",
              "    <div class=\"colab-df-container\">\n",
              "      <div>\n",
              "<style scoped>\n",
              "    .dataframe tbody tr th:only-of-type {\n",
              "        vertical-align: middle;\n",
              "    }\n",
              "\n",
              "    .dataframe tbody tr th {\n",
              "        vertical-align: top;\n",
              "    }\n",
              "\n",
              "    .dataframe thead th {\n",
              "        text-align: right;\n",
              "    }\n",
              "</style>\n",
              "<table border=\"1\" class=\"dataframe\">\n",
              "  <thead>\n",
              "    <tr style=\"text-align: right;\">\n",
              "      <th></th>\n",
              "      <th>Unnamed: 0</th>\n",
              "      <th>CRIM</th>\n",
              "      <th>ZN</th>\n",
              "      <th>INDUS</th>\n",
              "      <th>CHAS</th>\n",
              "      <th>NOX</th>\n",
              "      <th>RM</th>\n",
              "      <th>AGE</th>\n",
              "      <th>DIS</th>\n",
              "      <th>RAD</th>\n",
              "      <th>TAX</th>\n",
              "      <th>PTRATIO</th>\n",
              "      <th>LSTAT</th>\n",
              "      <th>MEDV</th>\n",
              "    </tr>\n",
              "  </thead>\n",
              "  <tbody>\n",
              "    <tr>\n",
              "      <th>0</th>\n",
              "      <td>0</td>\n",
              "      <td>0.00632</td>\n",
              "      <td>18.0</td>\n",
              "      <td>2.31</td>\n",
              "      <td>0.0</td>\n",
              "      <td>0.538</td>\n",
              "      <td>6.575</td>\n",
              "      <td>65.2</td>\n",
              "      <td>4.0900</td>\n",
              "      <td>1.0</td>\n",
              "      <td>296.0</td>\n",
              "      <td>15.3</td>\n",
              "      <td>4.98</td>\n",
              "      <td>24.0</td>\n",
              "    </tr>\n",
              "    <tr>\n",
              "      <th>1</th>\n",
              "      <td>1</td>\n",
              "      <td>0.02731</td>\n",
              "      <td>0.0</td>\n",
              "      <td>7.07</td>\n",
              "      <td>0.0</td>\n",
              "      <td>0.469</td>\n",
              "      <td>6.421</td>\n",
              "      <td>78.9</td>\n",
              "      <td>4.9671</td>\n",
              "      <td>2.0</td>\n",
              "      <td>242.0</td>\n",
              "      <td>17.8</td>\n",
              "      <td>9.14</td>\n",
              "      <td>21.6</td>\n",
              "    </tr>\n",
              "    <tr>\n",
              "      <th>2</th>\n",
              "      <td>2</td>\n",
              "      <td>0.02729</td>\n",
              "      <td>0.0</td>\n",
              "      <td>7.07</td>\n",
              "      <td>0.0</td>\n",
              "      <td>0.469</td>\n",
              "      <td>7.185</td>\n",
              "      <td>61.1</td>\n",
              "      <td>4.9671</td>\n",
              "      <td>2.0</td>\n",
              "      <td>242.0</td>\n",
              "      <td>17.8</td>\n",
              "      <td>4.03</td>\n",
              "      <td>34.7</td>\n",
              "    </tr>\n",
              "    <tr>\n",
              "      <th>3</th>\n",
              "      <td>3</td>\n",
              "      <td>0.03237</td>\n",
              "      <td>0.0</td>\n",
              "      <td>2.18</td>\n",
              "      <td>0.0</td>\n",
              "      <td>0.458</td>\n",
              "      <td>6.998</td>\n",
              "      <td>45.8</td>\n",
              "      <td>6.0622</td>\n",
              "      <td>3.0</td>\n",
              "      <td>222.0</td>\n",
              "      <td>18.7</td>\n",
              "      <td>2.94</td>\n",
              "      <td>33.4</td>\n",
              "    </tr>\n",
              "    <tr>\n",
              "      <th>4</th>\n",
              "      <td>4</td>\n",
              "      <td>0.06905</td>\n",
              "      <td>0.0</td>\n",
              "      <td>2.18</td>\n",
              "      <td>0.0</td>\n",
              "      <td>0.458</td>\n",
              "      <td>7.147</td>\n",
              "      <td>54.2</td>\n",
              "      <td>6.0622</td>\n",
              "      <td>3.0</td>\n",
              "      <td>222.0</td>\n",
              "      <td>18.7</td>\n",
              "      <td>5.33</td>\n",
              "      <td>36.2</td>\n",
              "    </tr>\n",
              "  </tbody>\n",
              "</table>\n",
              "</div>\n",
              "      <button class=\"colab-df-convert\" onclick=\"convertToInteractive('df-df587b06-3799-4132-83b8-485b037b1e2f')\"\n",
              "              title=\"Convert this dataframe to an interactive table.\"\n",
              "              style=\"display:none;\">\n",
              "        \n",
              "  <svg xmlns=\"http://www.w3.org/2000/svg\" height=\"24px\"viewBox=\"0 0 24 24\"\n",
              "       width=\"24px\">\n",
              "    <path d=\"M0 0h24v24H0V0z\" fill=\"none\"/>\n",
              "    <path d=\"M18.56 5.44l.94 2.06.94-2.06 2.06-.94-2.06-.94-.94-2.06-.94 2.06-2.06.94zm-11 1L8.5 8.5l.94-2.06 2.06-.94-2.06-.94L8.5 2.5l-.94 2.06-2.06.94zm10 10l.94 2.06.94-2.06 2.06-.94-2.06-.94-.94-2.06-.94 2.06-2.06.94z\"/><path d=\"M17.41 7.96l-1.37-1.37c-.4-.4-.92-.59-1.43-.59-.52 0-1.04.2-1.43.59L10.3 9.45l-7.72 7.72c-.78.78-.78 2.05 0 2.83L4 21.41c.39.39.9.59 1.41.59.51 0 1.02-.2 1.41-.59l7.78-7.78 2.81-2.81c.8-.78.8-2.07 0-2.86zM5.41 20L4 18.59l7.72-7.72 1.47 1.35L5.41 20z\"/>\n",
              "  </svg>\n",
              "      </button>\n",
              "      \n",
              "  <style>\n",
              "    .colab-df-container {\n",
              "      display:flex;\n",
              "      flex-wrap:wrap;\n",
              "      gap: 12px;\n",
              "    }\n",
              "\n",
              "    .colab-df-convert {\n",
              "      background-color: #E8F0FE;\n",
              "      border: none;\n",
              "      border-radius: 50%;\n",
              "      cursor: pointer;\n",
              "      display: none;\n",
              "      fill: #1967D2;\n",
              "      height: 32px;\n",
              "      padding: 0 0 0 0;\n",
              "      width: 32px;\n",
              "    }\n",
              "\n",
              "    .colab-df-convert:hover {\n",
              "      background-color: #E2EBFA;\n",
              "      box-shadow: 0px 1px 2px rgba(60, 64, 67, 0.3), 0px 1px 3px 1px rgba(60, 64, 67, 0.15);\n",
              "      fill: #174EA6;\n",
              "    }\n",
              "\n",
              "    [theme=dark] .colab-df-convert {\n",
              "      background-color: #3B4455;\n",
              "      fill: #D2E3FC;\n",
              "    }\n",
              "\n",
              "    [theme=dark] .colab-df-convert:hover {\n",
              "      background-color: #434B5C;\n",
              "      box-shadow: 0px 1px 3px 1px rgba(0, 0, 0, 0.15);\n",
              "      filter: drop-shadow(0px 1px 2px rgba(0, 0, 0, 0.3));\n",
              "      fill: #FFFFFF;\n",
              "    }\n",
              "  </style>\n",
              "\n",
              "      <script>\n",
              "        const buttonEl =\n",
              "          document.querySelector('#df-df587b06-3799-4132-83b8-485b037b1e2f button.colab-df-convert');\n",
              "        buttonEl.style.display =\n",
              "          google.colab.kernel.accessAllowed ? 'block' : 'none';\n",
              "\n",
              "        async function convertToInteractive(key) {\n",
              "          const element = document.querySelector('#df-df587b06-3799-4132-83b8-485b037b1e2f');\n",
              "          const dataTable =\n",
              "            await google.colab.kernel.invokeFunction('convertToInteractive',\n",
              "                                                     [key], {});\n",
              "          if (!dataTable) return;\n",
              "\n",
              "          const docLinkHtml = 'Like what you see? Visit the ' +\n",
              "            '<a target=\"_blank\" href=https://colab.research.google.com/notebooks/data_table.ipynb>data table notebook</a>'\n",
              "            + ' to learn more about interactive tables.';\n",
              "          element.innerHTML = '';\n",
              "          dataTable['output_type'] = 'display_data';\n",
              "          await google.colab.output.renderOutput(dataTable, element);\n",
              "          const docLink = document.createElement('div');\n",
              "          docLink.innerHTML = docLinkHtml;\n",
              "          element.appendChild(docLink);\n",
              "        }\n",
              "      </script>\n",
              "    </div>\n",
              "  </div>\n",
              "  "
            ]
          },
          "metadata": {},
          "execution_count": 3
        }
      ],
      "source": [
        "boston_df.head()"
      ]
    },
    {
      "cell_type": "markdown",
      "metadata": {
        "id": "9pue3b_kP8YN"
      },
      "source": [
        "_For all visualizations, please include a title in each graph and appropriate labels_\n",
        "\n",
        "## T4. Generate the following and explain your findings:\n",
        "\n",
        "1. For the \"Median value of owner-occupied homes\" provide a boxplot\n",
        "2. Provide a  histogram for the Charles river variable\n",
        "3. Provide a boxplot for the MEDV variable vs the AGE variable. (Discretize the age variable into three groups of 35 years and younger, between 35 and 70 years and 70 years and older)\n",
        "4. Provide a scatter plot to show the relationship between Nitric oxide concentrations and the proportion of non-retail business acres per town. What can you say about the relationship?\n",
        "5. Create a histogram for the pupil to teacher ratio variable\n"
      ]
    },
    {
      "cell_type": "markdown",
      "metadata": {
        "id": "-1yB-1FEP8YN"
      },
      "source": [
        "## Median value of owner-occupied homes"
      ]
    },
    {
      "cell_type": "markdown",
      "metadata": {
        "id": "3z5mxuOqP8YN"
      },
      "source": [
        "(Median value of owner-occupied homes in $1000's)"
      ]
    },
    {
      "cell_type": "code",
      "execution_count": 4,
      "metadata": {
        "colab": {
          "base_uri": "https://localhost:8080/",
          "height": 449
        },
        "id": "xBnsmDbmP8YO",
        "outputId": "56d1241f-5c5c-4f55-de06-4d05e842b5a5"
      },
      "outputs": [
        {
          "output_type": "display_data",
          "data": {
            "text/plain": [
              "<Figure size 640x480 with 1 Axes>"
            ],
            "image/png": "[encoded data removed]"
          },
          "metadata": {}
        }
      ],
      "source": [
        "ax = sns.boxplot(x='MEDV', data = boston_df)"
      ]
    },
    {
      "cell_type": "markdown",
      "metadata": {
        "id": "8iKrDU6zP8YO"
      },
      "source": [
        "## Charles river"
      ]
    },
    {
      "cell_type": "markdown",
      "metadata": {
        "id": "GEsnw78mP8YO"
      },
      "source": [
        "(1 if tract bounds river; 0 otherwise) "
      ]
    },
    {
      "cell_type": "code",
      "execution_count": 5,
      "metadata": {
        "colab": {
          "base_uri": "https://localhost:8080/",
          "height": 523
        },
        "id": "hZ8oGcfmP8YO",
        "outputId": "f3ac26f1-5c32-4a9e-dd8c-73e1ebcc68c4"
      },
      "outputs": [
        {
          "output_type": "execute_result",
          "data": {
            "text/plain": [
              "<seaborn.axisgrid.FacetGrid at 0x7feb668d2200>"
            ]
          },
          "metadata": {},
          "execution_count": 5
        },
        {
          "output_type": "display_data",
          "data": {
            "text/plain": [
              "<Figure size 500x500 with 1 Axes>"
            ],
            "image/png": "[encoded data removed]"
          },
          "metadata": {}
        }
      ],
      "source": [
        "sns.catplot(x='CHAS', kind='count', data = boston_df)"
      ]
    },
    {
      "cell_type": "markdown",
      "metadata": {
        "id": "H9R2alatP8YO"
      },
      "source": [
        "## MEDV variable vs the AGE variable"
      ]
    },
    {
      "cell_type": "markdown",
      "metadata": {
        "id": "Gmlauqi9P8YP"
      },
      "source": [
        "(The age variable is discretized into three groups of 35 years and younger, between 35 and 70 years and 70 years and older)"
      ]
    },
    {
      "cell_type": "markdown",
      "metadata": {
        "id": "-XpKqK_GP8YP"
      },
      "source": [
        "(Median value of owner-occupied homes in $1000's)"
      ]
    },
    {
      "cell_type": "code",
      "execution_count": 6,
      "metadata": {
        "colab": {
          "base_uri": "https://localhost:8080/",
          "height": 449
        },
        "id": "dLHcJ_nAP8YP",
        "outputId": "ade3ca02-f576-4446-db69-1761449f2e0c"
      },
      "outputs": [
        {
          "output_type": "display_data",
          "data": {
            "text/plain": [
              "<Figure size 640x480 with 1 Axes>"
            ],
            "image/png": "[encoded data removed]"
          },
          "metadata": {}
        }
      ],
      "source": [
        "boston_df.loc[(boston_df['AGE'] <= 35), 'age_group'] = '35 years and younger'\n",
        "boston_df.loc[(boston_df['AGE'] > 35)&(boston_df['AGE'] < 70), 'age_group'] = 'between 35 and 70 years'\n",
        "boston_df.loc[(boston_df['AGE'] >= 70), 'age_group'] = '70 years and older'\n",
        "\n",
        "ax = sns.boxplot(x=\"age_group\", y=\"MEDV\", data=boston_df)"
      ]
    },
    {
      "cell_type": "markdown",
      "metadata": {
        "id": "VlsBBQs3P8YP"
      },
      "source": [
        "## Relationship between Nitric oxide concentrations and the proportion of non-retail business acres per town"
      ]
    },
    {
      "cell_type": "markdown",
      "metadata": {
        "id": "YmqPFyjCP8YP"
      },
      "source": [
        "(NOX - nitric oxides concentration (parts per 10 million)"
      ]
    },
    {
      "cell_type": "markdown",
      "metadata": {
        "id": "mp_YXjHQP8YP"
      },
      "source": [
        "(INDUS - proportion of non-retail business acres per town)"
      ]
    },
    {
      "cell_type": "code",
      "execution_count": 7,
      "metadata": {
        "colab": {
          "base_uri": "https://localhost:8080/",
          "height": 449
        },
        "id": "2oaX-CYZP8YP",
        "outputId": "6e187de5-629c-4819-9f5c-8f5d74626963"
      },
      "outputs": [
        {
          "output_type": "display_data",
          "data": {
            "text/plain": [
              "<Figure size 640x480 with 1 Axes>"
            ],
            "image/png": "[encoded data removed]"
          },
          "metadata": {}
        }
      ],
      "source": [
        "ax = sns.scatterplot(x='NOX', y='INDUS',  data=boston_df)"
      ]
    },
    {
      "cell_type": "markdown",
      "metadata": {
        "id": "bOWtDpcyP8YP"
      },
      "source": [
        "## Pupil-teacher ratio by town"
      ]
    },
    {
      "cell_type": "markdown",
      "metadata": {
        "id": "tkum2YAoP8YQ"
      },
      "source": [
        "(PTRATIO - pupil-teacher ratio by town)"
      ]
    },
    {
      "cell_type": "code",
      "execution_count": null,
      "metadata": {
        "id": "wxz08WecP8YQ",
        "outputId": "4265c178-a5a2-4336-f478-745bcfbc29ca"
      },
      "outputs": [
        {
          "data": {
            "image/png": "[encoded data removed]",
            "text/plain": [
              "<Figure size 432x288 with 1 Axes>"
            ]
          },
          "metadata": {
            "needs_background": "light"
          },
          "output_type": "display_data"
        }
      ],
      "source": [
        "ax = sns.distplot(boston_df['PTRATIO'], kde = False)"
      ]
    },
    {
      "cell_type": "markdown",
      "metadata": {
        "id": "gtpufE0QP8YQ"
      },
      "source": [
        "## T5. Use the appropriate tests to answer the questions provided.\n",
        "_For each of the following questions_\n",
        "\n",
        "1. Is there a significant difference in median value of houses bounded by the Charles river or not? \n",
        "#### (T-test for independent samples)\n",
        "2. Is there a difference in Median values of houses (MEDV) for each proportion of owner occupied units built prior to 1940 (AGE)? \n",
        "#### (ANOVA)\n",
        "3. Can we conclude that there is no relationship between Nitric oxide concentrations and proportion of non-retail business acres per town? \n",
        "#### (Pearson Correlation)\n",
        "4. What is the impact of an additional weighted distance  to the five Boston employment centres on the median value of owner occupied homes? \n",
        "#### (Regression analysis)\n",
        "\n",
        "_Be sure to:_\n",
        "\n",
        "State your hypothesis.\n",
        "Use α = 0.05\n",
        "Perform the test Statistics.\n",
        "State the conclusion from the test."
      ]
    },
    {
      "cell_type": "markdown",
      "metadata": {
        "id": "8Xro-Q4HP8YQ"
      },
      "source": [
        "## Is there a significant difference in median value of houses bounded by the Charles river or not?"
      ]
    },
    {
      "cell_type": "markdown",
      "metadata": {
        "id": "jhvnYpmHP8YQ"
      },
      "source": [
        "#### Hypothesis:\n",
        "\n",
        "-   $H_0: µ_1 = µ_2$ (\"there is no difference in median value of houses bounded by the Charles river\")\n",
        "-   $H_1: µ_1 ≠ µ_2$ (\"there is a difference in median value of houses bounded by the Charles river\")\n"
      ]
    },
    {
      "cell_type": "code",
      "execution_count": null,
      "metadata": {
        "id": "vNCd3_4GP8YQ"
      },
      "outputs": [],
      "source": [
        "import scipy.stats"
      ]
    },
    {
      "cell_type": "code",
      "execution_count": null,
      "metadata": {
        "id": "KDr6mrYvP8YR",
        "outputId": "af9b6e00-44cc-49d5-e94d-1d07f9957f24"
      },
      "outputs": [
        {
          "data": {
            "text/plain": [
              "LeveneResult(statistic=8.75190489604598, pvalue=0.003238119367639829)"
            ]
          },
          "execution_count": 20,
          "metadata": {},
          "output_type": "execute_result"
        }
      ],
      "source": [
        "scipy.stats.levene(boston_df[boston_df['CHAS'] == 0]['MEDV'],\n",
        "                   boston_df[boston_df['CHAS'] == 1]['MEDV'], center='mean')"
      ]
    },
    {
      "cell_type": "markdown",
      "metadata": {
        "id": "ukJgQwsFP8YR"
      },
      "source": [
        "(Since the p-value is less than 0.05 we can not assume equality of variance)"
      ]
    },
    {
      "cell_type": "code",
      "execution_count": null,
      "metadata": {
        "id": "62Fkq2BsP8YR",
        "outputId": "0ed1612c-5333-4c6a-8d7a-a049b0216fd4"
      },
      "outputs": [
        {
          "data": {
            "text/plain": [
              "Ttest_indResult(statistic=-3.113291312794837, pvalue=0.003567170098137517)"
            ]
          },
          "execution_count": 21,
          "metadata": {},
          "output_type": "execute_result"
        }
      ],
      "source": [
        "scipy.stats.ttest_ind(boston_df[boston_df['CHAS'] == 0]['MEDV'],\n",
        "                   boston_df[boston_df['CHAS'] == 1]['MEDV'], equal_var = False)"
      ]
    },
    {
      "cell_type": "markdown",
      "metadata": {
        "id": "F1UEFceTP8YR"
      },
      "source": [
        "**Conclusion:** Since the p-value is less than 0.05 we reject the null hypothesis as there is enough proof that there is a statistical difference in Median value of owner-occupied homes based on Charles river variable"
      ]
    },
    {
      "cell_type": "markdown",
      "metadata": {
        "id": "llTySZZgP8YR"
      },
      "source": [
        "## Is there a difference in Median values of houses (MEDV) for each proportion of owner occupied units built prior to 1940 (AGE)?"
      ]
    },
    {
      "cell_type": "markdown",
      "metadata": {
        "id": "ISmzbbsEP8YR"
      },
      "source": [
        "#### Hypothesis:\n",
        "\n",
        "-   $H_0: µ_1 = µ_2 = µ_3$ (the three means are equal)\n",
        "-   $H_1:$ At least one of the means differ"
      ]
    },
    {
      "cell_type": "code",
      "execution_count": null,
      "metadata": {
        "id": "M0YytaksP8YR",
        "outputId": "044ab19a-fac6-4eaf-bede-588e7c4ad961"
      },
      "outputs": [
        {
          "data": {
            "text/plain": [
              "LeveneResult(statistic=2.7806200293748304, pvalue=0.06295337343259205)"
            ]
          },
          "execution_count": 22,
          "metadata": {},
          "output_type": "execute_result"
        }
      ],
      "source": [
        "scipy.stats.levene(boston_df[boston_df['age_group'] == '35 years and younger']['MEDV'],\n",
        "                   boston_df[boston_df['age_group'] == 'between 35 and 70 years']['MEDV'], \n",
        "                   boston_df[boston_df['age_group'] == '70 years and older']['MEDV'], \n",
        "                   center='mean')"
      ]
    },
    {
      "cell_type": "markdown",
      "metadata": {
        "id": "YKcvbkh5P8YS"
      },
      "source": [
        " (Since the p-value is more than 0.05, the variance are equal)"
      ]
    },
    {
      "cell_type": "markdown",
      "metadata": {
        "id": "vYtasc3eP8YS"
      },
      "source": [
        "Now we separate the three samples (one for each age category) into a variable each"
      ]
    },
    {
      "cell_type": "code",
      "execution_count": null,
      "metadata": {
        "id": "ewtU3C91P8YS"
      },
      "outputs": [],
      "source": [
        "thirtyfive_lower = boston_df[boston_df['age_group'] == '35 years and younger']['MEDV']\n",
        "thirtyfive_seventy = boston_df[boston_df['age_group'] == 'between 35 and 70 years']['MEDV']\n",
        "seventy_older = boston_df[boston_df['age_group'] == '70 years and older']['MEDV']"
      ]
    },
    {
      "cell_type": "markdown",
      "metadata": {
        "id": "U2E7LrDHP8YS"
      },
      "source": [
        "Now, run a one-way ANOVA"
      ]
    },
    {
      "cell_type": "code",
      "execution_count": null,
      "metadata": {
        "id": "UDZKzYXtP8YS",
        "outputId": "ff0d471c-48f6-4d8b-d57c-3aa1266ea9b8"
      },
      "outputs": [
        {
          "name": "stdout",
          "output_type": "stream",
          "text": [
            "F_Statistic: 36.40764999196599, P-Value: 1.7105011022702984e-15\n"
          ]
        }
      ],
      "source": [
        "f_statistic, p_value = scipy.stats.f_oneway(thirtyfive_lower, thirtyfive_seventy, seventy_older)\n",
        "print(\"F_Statistic: {0}, P-Value: {1}\".format(f_statistic,p_value))"
      ]
    },
    {
      "cell_type": "markdown",
      "metadata": {
        "id": "zxfeevLWP8YT"
      },
      "source": [
        "**Conclusion:** Since the p-value is less than 0.05, we reject the null hypothesis as there is a significant evidence that at least one of the means differ.\n"
      ]
    },
    {
      "cell_type": "markdown",
      "metadata": {
        "id": "7-5_WU1SP8YT"
      },
      "source": [
        "## Can we conclude that there is no relationship between Nitric oxide concentrations and proportion of non-retail business acres per town?"
      ]
    },
    {
      "cell_type": "markdown",
      "metadata": {
        "id": "EDGbshocP8YT"
      },
      "source": [
        "#### Hypothesis:\n",
        "-   $H_0:$ both does not correlate\n",
        "-   $H_1:$ both correlate\n"
      ]
    },
    {
      "cell_type": "code",
      "execution_count": null,
      "metadata": {
        "id": "7y6Da628P8YT",
        "outputId": "d4623244-0979-4df8-d43a-e110eab3c3d2"
      },
      "outputs": [
        {
          "data": {
            "text/plain": [
              "(0.7636514469209154, 7.913361061236894e-98)"
            ]
          },
          "execution_count": 27,
          "metadata": {},
          "output_type": "execute_result"
        }
      ],
      "source": [
        "scipy.stats.pearsonr(boston_df['NOX'], boston_df['INDUS'])"
      ]
    },
    {
      "cell_type": "markdown",
      "metadata": {
        "id": "-iD761c9P8YT"
      },
      "source": [
        "**Conclusion:** Since the p-value < 0.05, we reject  the Null hypothesis and conclude that there exists a relationship between  NOX and INDUS."
      ]
    },
    {
      "cell_type": "markdown",
      "metadata": {
        "id": "eTGmLIyLP8YT"
      },
      "source": [
        "## What is the impact of an additional weighted distance to the five Boston employment centres on the median value of owner occupied homes?"
      ]
    },
    {
      "cell_type": "markdown",
      "metadata": {
        "id": "TxFajq8cP8YT"
      },
      "source": [
        "#### Hypothesis:\n",
        "-   $H_0:$ Dis is not correlated with MEDV\n",
        "-   $H_1:$ Dis is correlated with MEDV\n"
      ]
    },
    {
      "cell_type": "code",
      "execution_count": null,
      "metadata": {
        "id": "k0_L8emiP8YU",
        "outputId": "b3d57fe6-375b-4030-c3fe-9e9c3a2ec89b"
      },
      "outputs": [
        {
          "data": {
            "text/html": [
              "<table class=\"simpletable\">\n",
              "<caption>OLS Regression Results</caption>\n",
              "<tr>\n",
              "  <th>Dep. Variable:</th>          <td>MEDV</td>       <th>  R-squared:         </th> <td>   0.062</td>\n",
              "</tr>\n",
              "<tr>\n",
              "  <th>Model:</th>                   <td>OLS</td>       <th>  Adj. R-squared:    </th> <td>   0.061</td>\n",
              "</tr>\n",
              "<tr>\n",
              "  <th>Method:</th>             <td>Least Squares</td>  <th>  F-statistic:       </th> <td>   33.58</td>\n",
              "</tr>\n",
              "<tr>\n",
              "  <th>Date:</th>             <td>Thu, 25 Mar 2021</td> <th>  Prob (F-statistic):</th> <td>1.21e-08</td>\n",
              "</tr>\n",
              "<tr>\n",
              "  <th>Time:</th>                 <td>22:14:46</td>     <th>  Log-Likelihood:    </th> <td> -1823.9</td>\n",
              "</tr>\n",
              "<tr>\n",
              "  <th>No. Observations:</th>      <td>   506</td>      <th>  AIC:               </th> <td>   3652.</td>\n",
              "</tr>\n",
              "<tr>\n",
              "  <th>Df Residuals:</th>          <td>   504</td>      <th>  BIC:               </th> <td>   3660.</td>\n",
              "</tr>\n",
              "<tr>\n",
              "  <th>Df Model:</th>              <td>     1</td>      <th>                     </th>     <td> </td>   \n",
              "</tr>\n",
              "<tr>\n",
              "  <th>Covariance Type:</th>      <td>nonrobust</td>    <th>                     </th>     <td> </td>   \n",
              "</tr>\n",
              "</table>\n",
              "<table class=\"simpletable\">\n",
              "<tr>\n",
              "    <td></td>       <th>coef</th>     <th>std err</th>      <th>t</th>      <th>P>|t|</th>  <th>[0.025</th>    <th>0.975]</th>  \n",
              "</tr>\n",
              "<tr>\n",
              "  <th>const</th> <td>   18.3901</td> <td>    0.817</td> <td>   22.499</td> <td> 0.000</td> <td>   16.784</td> <td>   19.996</td>\n",
              "</tr>\n",
              "<tr>\n",
              "  <th>DIS</th>   <td>    1.0916</td> <td>    0.188</td> <td>    5.795</td> <td> 0.000</td> <td>    0.722</td> <td>    1.462</td>\n",
              "</tr>\n",
              "</table>\n",
              "<table class=\"simpletable\">\n",
              "<tr>\n",
              "  <th>Omnibus:</th>       <td>139.779</td> <th>  Durbin-Watson:     </th> <td>   0.570</td>\n",
              "</tr>\n",
              "<tr>\n",
              "  <th>Prob(Omnibus):</th> <td> 0.000</td>  <th>  Jarque-Bera (JB):  </th> <td> 305.104</td>\n",
              "</tr>\n",
              "<tr>\n",
              "  <th>Skew:</th>          <td> 1.466</td>  <th>  Prob(JB):          </th> <td>5.59e-67</td>\n",
              "</tr>\n",
              "<tr>\n",
              "  <th>Kurtosis:</th>      <td> 5.424</td>  <th>  Cond. No.          </th> <td>    9.32</td>\n",
              "</tr>\n",
              "</table><br/><br/>Notes:<br/>[1] Standard Errors assume that the covariance matrix of the errors is correctly specified."
            ],
            "text/plain": [
              "<class 'statsmodels.iolib.summary.Summary'>\n",
              "\"\"\"\n",
              "                            OLS Regression Results                            \n",
              "==============================================================================\n",
              "Dep. Variable:                   MEDV   R-squared:                       0.062\n",
              "Model:                            OLS   Adj. R-squared:                  0.061\n",
              "Method:                 Least Squares   F-statistic:                     33.58\n",
              "Date:                Thu, 25 Mar 2021   Prob (F-statistic):           1.21e-08\n",
              "Time:                        22:14:46   Log-Likelihood:                -1823.9\n",
              "No. Observations:                 506   AIC:                             3652.\n",
              "Df Residuals:                     504   BIC:                             3660.\n",
              "Df Model:                           1                                         \n",
              "Covariance Type:            nonrobust                                         \n",
              "==============================================================================\n",
              "                 coef    std err          t      P>|t|      [0.025      0.975]\n",
              "------------------------------------------------------------------------------\n",
              "const         18.3901      0.817     22.499      0.000      16.784      19.996\n",
              "DIS            1.0916      0.188      5.795      0.000       0.722       1.462\n",
              "==============================================================================\n",
              "Omnibus:                      139.779   Durbin-Watson:                   0.570\n",
              "Prob(Omnibus):                  0.000   Jarque-Bera (JB):              305.104\n",
              "Skew:                           1.466   Prob(JB):                     5.59e-67\n",
              "Kurtosis:                       5.424   Cond. No.                         9.32\n",
              "==============================================================================\n",
              "\n",
              "Notes:\n",
              "[1] Standard Errors assume that the covariance matrix of the errors is correctly specified.\n",
              "\"\"\""
            ]
          },
          "execution_count": 26,
          "metadata": {},
          "output_type": "execute_result"
        }
      ],
      "source": [
        "\n",
        "\n",
        "X = boston_df['DIS']\n",
        "y = boston_df['MEDV']\n",
        "X = sm.add_constant(X) \n",
        "\n",
        "model = sm.OLS(y, X).fit()\n",
        "predictions = model.predict(X)\n",
        "\n",
        "model.summary()"
      ]
    },
    {
      "cell_type": "markdown",
      "metadata": {
        "id": "SR8rFH7-P8YU"
      },
      "source": [
        "**Conclusion:** Since the p-value < 0.05, we reject  the Null hypothesis and conclude that there exists a relationship between  DIS and MEDV."
      ]
    },
    {
      "cell_type": "code",
      "execution_count": null,
      "metadata": {
        "id": "bteWbCTtP8YU"
      },
      "outputs": [],
      "source": []
    }
  ],
  "metadata": {
    "kernelspec": {
      "display_name": "Python",
      "language": "python",
      "name": "conda-env-python-py"
    },
    "language_info": {
      "codemirror_mode": {
        "name": "ipython",
        "version": 3
      },
      "file_extension": ".py",
      "mimetype": "text/x-python",
      "name": "python",
      "nbconvert_exporter": "python",
      "pygments_lexer": "ipython3",
      "version": "3.6.12"
    },
    "colab": {
      "provenance": [],
      "include_colab_link": true
    }
  },
  "nbformat": 4,
  "nbformat_minor": 0
}